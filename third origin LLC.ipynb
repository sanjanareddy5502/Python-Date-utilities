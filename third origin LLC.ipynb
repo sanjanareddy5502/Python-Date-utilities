{
 "cells": [
  {
   "cell_type": "code",
   "execution_count": 1,
   "id": "c7167924-9964-449e-9043-074004fb54fd",
   "metadata": {},
   "outputs": [],
   "source": [
    "import pytz\n",
    "from datetime import datetime, timedelta\n",
    "\n",
    "class DateUtility:\n",
    "    \n",
    "    def __init__(self):\n",
    "        pass\n",
    "    \n",
    "    # 1. convert_dt(from_date, from_date_TZ , to_date_TZ)\n",
    "    def convert_dt(self, from_date, from_date_TZ, to_date_TZ):\n",
    "        from_tz = pytz.timezone(from_date_TZ)\n",
    "        to_tz = pytz.timezone(to_date_TZ)\n",
    "        from_date = from_tz.localize(from_date)\n",
    "        to_date = from_date.astimezone(to_tz)\n",
    "        return to_date\n",
    "    \n",
    "    # 2. add_dt(from_date, number_of_days)\n",
    "    def add_dt(self, from_date, number_of_days):\n",
    "        return from_date + timedelta(days=number_of_days)\n",
    "    \n",
    "    # 3. sub_dt(from_date, number_of_days)\n",
    "    def sub_dt(self, from_date, number_of_days):\n",
    "        return from_date - timedelta(days=number_of_days)\n",
    "    \n",
    "    # 4. get_days(from_date, to_date)\n",
    "    def get_days(self, from_date, to_date):\n",
    "        delta = to_date - from_date\n",
    "        return delta.days\n",
    "    \n",
    "    # 5. get_days_exclude_we(from_date, to_date)\n",
    "    def get_days_exclude_we(self, from_date, to_date):\n",
    "        delta = to_date - from_date\n",
    "        business_days = 0\n",
    "        for i in range(delta.days + 1):\n",
    "            day = from_date + timedelta(days=i)\n",
    "            if day.weekday() not in [5, 6]:\n",
    "                business_days += 1\n",
    "        return business_days\n",
    "    \n",
    "    # 6. get_days_since_epoch(from_date)\n",
    "    def get_days_since_epoch(self, from_date):\n",
    "        epoch = datetime(1970, 1, 1)\n",
    "        delta = from_date - epoch\n",
    "        return delta.days\n",
    "    \n",
    "    # 7. get_business_days(from_date, to_date)\n",
    "    def get_business_days(self, from_date, to_date, holiday_file):\n",
    "        delta = to_date - from_date\n",
    "        business_days = 0\n",
    "        holidays = self.get_holidays(holiday_file)\n",
    "        for i in range(delta.days + 1):\n",
    "            day = from_date + timedelta(days=i)\n",
    "            if day.weekday() not in [5, 6] and day not in holidays:\n",
    "                business_days += 1\n",
    "        return business_days\n",
    "    \n",
    "    def get_holidays(self, holiday_file):\n",
    "        holidays = []\n",
    "        with open(holiday_file) as f:\n",
    "            for line in f:\n",
    "                tz, date_str, holiday = line.strip().split(',')\n",
    "                date = datetime.strptime(date_str, '%Y%m%d')\n",
    "                timezone = pytz.timezone(tz)\n",
    "                date = timezone.localize(date)\n",
    "                holidays.append(date)\n",
    "        return holidays\n"
   ]
  },
  {
   "cell_type": "code",
   "execution_count": 2,
   "id": "4e1317bc-5e79-4437-9d1a-614efa72ffcd",
   "metadata": {},
   "outputs": [
    {
     "name": "stdout",
     "output_type": "stream",
     "text": [
      "2023-04-21 08:11:40.548134-04:00\n"
     ]
    }
   ],
   "source": [
    "# Example usage\n",
    "du = DateUtility()\n",
    "new_dt = du.convert_dt(datetime.now(), 'UTC', 'US/Eastern')\n",
    "print(new_dt)"
   ]
  },
  {
   "cell_type": "code",
   "execution_count": 4,
   "id": "2aa7a398-2375-42cc-bd40-df920236d449",
   "metadata": {},
   "outputs": [
    {
     "name": "stdout",
     "output_type": "stream",
     "text": [
      "2023-04-21 23:30:00+09:00\n"
     ]
    }
   ],
   "source": [
    "# 1. convert_dt(from_date, from_date_TZ , to_date_TZ)\n",
    "from_date = datetime(2023, 4, 21, 10, 30)\n",
    "from_date_TZ = 'America/New_York'\n",
    "to_date_TZ = 'Asia/Tokyo'\n",
    "converted_date = du.convert_dt(from_date, from_date_TZ, to_date_TZ)\n",
    "print(converted_date)  # 2023-04-22 00:30:00+09:00"
   ]
  },
  {
   "cell_type": "code",
   "execution_count": 5,
   "id": "af2e2b06-ba33-4387-b3ae-b326600ff6ed",
   "metadata": {},
   "outputs": [
    {
     "name": "stdout",
     "output_type": "stream",
     "text": [
      "2023-04-28 00:00:00\n"
     ]
    }
   ],
   "source": [
    "# 2. add_dt(from_date, number_of_days)\n",
    "from_date = datetime(2023, 4, 21)\n",
    "number_of_days = 7\n",
    "new_date = du.add_dt(from_date, number_of_days)\n",
    "print(new_date)  # 2023-04-28 00:00:00\n"
   ]
  },
  {
   "cell_type": "code",
   "execution_count": 6,
   "id": "89c8168b-8989-4d72-88d7-070bc343a54a",
   "metadata": {},
   "outputs": [
    {
     "name": "stdout",
     "output_type": "stream",
     "text": [
      "2023-04-14 00:00:00\n"
     ]
    }
   ],
   "source": [
    "# 3. sub_dt(from_date, number_of_days)\n",
    "from_date = datetime(2023, 4, 21)\n",
    "number_of_days = 7\n",
    "new_date = du.sub_dt(from_date, number_of_days)\n",
    "print(new_date)  # 2023-04-14 00:00:00\n"
   ]
  },
  {
   "cell_type": "code",
   "execution_count": 7,
   "id": "092d8749-08de-4066-a72d-f7387592c028",
   "metadata": {},
   "outputs": [
    {
     "name": "stdout",
     "output_type": "stream",
     "text": [
      "9\n"
     ]
    }
   ],
   "source": [
    "# 4. get_days(from_date, to_date)\n",
    "from_date = datetime(2023, 4, 21)\n",
    "to_date = datetime(2023, 4, 30)\n",
    "days = du.get_days(from_date, to_date)\n",
    "print(days)  # 9\n"
   ]
  },
  {
   "cell_type": "code",
   "execution_count": 8,
   "id": "5910f7c2-46c8-4d43-939c-3a70abcf99d9",
   "metadata": {},
   "outputs": [
    {
     "name": "stdout",
     "output_type": "stream",
     "text": [
      "6\n"
     ]
    }
   ],
   "source": [
    "# 5. get_days_exclude_we(from_date, to_date)\n",
    "from_date = datetime(2023, 4, 21)\n",
    "to_date = datetime(2023, 4, 30)\n",
    "business_days = du.get_days_exclude_we(from_date, to_date)\n",
    "print(business_days)  # 6"
   ]
  },
  {
   "cell_type": "code",
   "execution_count": 9,
   "id": "e75c649f-e717-47e6-a1f9-268df104baac",
   "metadata": {},
   "outputs": [
    {
     "name": "stdout",
     "output_type": "stream",
     "text": [
      "19468\n"
     ]
    }
   ],
   "source": [
    "\n",
    "# 6. get_days_since_epoch(from_date)\n",
    "from_date = datetime(2023, 4, 21)\n",
    "days_since_epoch = du.get_days_since_epoch(from_date)\n",
    "print(days_since_epoch)  # 18821"
   ]
  }
 ],
 "metadata": {
  "kernelspec": {
   "display_name": "Python 3 (ipykernel)",
   "language": "python",
   "name": "python3"
  },
  "language_info": {
   "codemirror_mode": {
    "name": "ipython",
    "version": 3
   },
   "file_extension": ".py",
   "mimetype": "text/x-python",
   "name": "python",
   "nbconvert_exporter": "python",
   "pygments_lexer": "ipython3",
   "version": "3.10.6"
  }
 },
 "nbformat": 4,
 "nbformat_minor": 5
}
